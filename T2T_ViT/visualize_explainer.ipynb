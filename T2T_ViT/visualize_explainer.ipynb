{
 "cells": [
  {
   "cell_type": "code",
   "execution_count": 1,
   "id": "74cd7e12-613c-445d-af1a-a20a7f2a43d8",
   "metadata": {},
   "outputs": [],
   "source": [
    "from copy import deepcopy\n",
    "\n",
    "import matplotlib.pyplot as plt\n",
    "import numpy as np\n",
    "import pandas as pd\n",
    "import pytorch_lightning as pl\n",
    "import torch\n",
    "from timm.models.helpers import load_pretrained\n",
    "from tqdm.autonotebook import tqdm\n",
    "\n",
    "from models.t2t_vit import t2t_vit_14\n",
    "from vit_shapley.modules.surrogate import Surrogate\n",
    "from vit_shapley.modules.explainer import Explainer\n",
    "from vit_shapley.CIFAR_10_Dataset import CIFAR_10_Dataset, CIFAR_10_Datamodule, PROJECT_ROOT, apply_masks_to_batch\n",
    "from vit_shapley.masks import make_masks_from_player_values, get_distances_from_center\n",
    "from utils import load_checkpoint\n",
    "\n",
    "if torch.cuda.device_count() > 1:\n",
    "    torch.cuda.set_device(5)"
   ]
  },
  {
   "cell_type": "code",
   "execution_count": 2,
   "id": "0125732f-0253-4647-9508-e2caf043be53",
   "metadata": {},
   "outputs": [
    {
     "name": "stdout",
     "output_type": "stream",
     "text": [
      "torch.Size([32, 3, 224, 224]) torch.Size([32]) torch.Size([32, 1, 196])\n"
     ]
    }
   ],
   "source": [
    "datamodule = CIFAR_10_Datamodule(num_players=196, num_mask_samples=1, paired_mask_samples=False)\n",
    "datamodule.setup()\n",
    "data = next(iter(datamodule.train_dataloader()))\n",
    "\n",
    "images = data['images']\n",
    "labels = data['labels']\n",
    "masks = data['masks']\n",
    "print(images.shape, labels.shape, masks.shape)"
   ]
  },
  {
   "cell_type": "markdown",
   "id": "c64fd577-9e9e-4026-8c81-8390086ed3fb",
   "metadata": {},
   "source": [
    "<font size=\"12\">Target model visualization</font>"
   ]
  },
  {
   "cell_type": "code",
   "execution_count": 3,
   "id": "773e5562-555a-4979-96f1-47b7d7e51754",
   "metadata": {},
   "outputs": [
    {
     "name": "stdout",
     "output_type": "stream",
     "text": [
      "adopt performer encoder for tokens-to-token\n",
      "adopt performer encoder for tokens-to-token\n"
     ]
    }
   ],
   "source": [
    "\n",
    "target_model = t2t_vit_14(num_classes=10)\n",
    "# target_model_path = PROJECT_ROOT / \"saved_models/downloaded/cifar10/cifar10_t2t-vit_14_98.3.pth\"\n",
    "# target_model_path = PROJECT_ROOT / \"saved_models/transferred/cifar10/ckpt_0.01_0.0005_97.5.pth\"\n",
    "# load_checkpoint(target_model_path, target_model, device=\"cuda\")\n",
    "# target_model.eval()\n",
    "\n",
    "surrogate = Surrogate.load_from_checkpoint(\n",
    "    PROJECT_ROOT / \"saved_models/surrogate/cifar10/_player196_lr1e-05_wd0.0_b128_epoch49.ckpt\",\n",
    "    # PROJECT_ROOT / \"vit_shapley/modules/checkpoints_surrogate/lightning_logs/version_0/checkpoints/epoch=49-step=70350.ckpt\",\n",
    "    map_location=\"cuda\",\n",
    "    target_model=target_model,\n",
    "    # strict=False\n",
    ")"
   ]
  },
  {
   "cell_type": "code",
   "execution_count": 4,
   "id": "f98a05d5",
   "metadata": {},
   "outputs": [
    {
     "name": "stdout",
     "output_type": "stream",
     "text": [
      "adopt performer encoder for tokens-to-token\n"
     ]
    }
   ],
   "source": [
    "explainer = Explainer.load_from_checkpoint(\n",
    "    PROJECT_ROOT / \"vit_shapley/modules/checkpoints_explainer_num_players_16/lightning_logs/version_0/checkpoints/epoch=99-step=140700.ckpt\",\n",
    "    map_location=\"cuda\",\n",
    "    surrogate=deepcopy(surrogate),\n",
    "    # strict=False\n",
    ")"
   ]
  },
  {
   "cell_type": "code",
   "execution_count": 5,
   "id": "7f24f9f1",
   "metadata": {},
   "outputs": [
    {
     "data": {
      "text/plain": [
       "torch.Size([32, 196, 10])"
      ]
     },
     "execution_count": 5,
     "metadata": {},
     "output_type": "execute_result"
    }
   ],
   "source": [
    "explainer(images.to(explainer.device)).shape"
   ]
  },
  {
   "cell_type": "code",
   "execution_count": 7,
   "id": "cfbe43b2",
   "metadata": {},
   "outputs": [],
   "source": [
    "from typing import Literal\n",
    "\n",
    "\n",
    "def remake_masks(\n",
    "    images: torch.Tensor,\n",
    "    masks: torch.Tensor,\n",
    "    targets: torch.Tensor,\n",
    "    players_to_mask: Literal[\"best\", \"worst\", \"central\", \"peripheral\", \"random\"],\n",
    "    explainer: torch.nn.Module\n",
    ") -> torch.Tensor:\n",
    "    \"\"\"\n",
    "    Remake masks in a given batch according to a given strategy, keeping the same percentage of 0s and 1s.\n",
    "\n",
    "    Args:\n",
    "    - images: (B, C, H, W)\n",
    "    - masks: (B, num_masks_per_image, num_players)\n",
    "    - targets: (B,)\n",
    "    - players_to_mask:\n",
    "        - \"best\", \"worst\": mask (zero out) the players with the highest/lowest SHAP values for the target class, as estimated by the explainer.\n",
    "        - \"central\", \"peripheral\": mask the players closest to/furthest from the center of the image.\n",
    "        - \"random\": mask random players (resampled for each item in the batch).\n",
    "    - explainer\n",
    "\n",
    "    Returns new masks of shape (B, num_masks_per_image, explainer.surrogate.num_players)\n",
    "    \"\"\"\n",
    "    B = images.shape[0]\n",
    "    num_players = explainer.surrogate.num_players\n",
    "\n",
    "    # From the masks in the batch we only take the percaentage of 0s and 1s.\n",
    "    num_zeroes = masks.shape[2] - masks.sum(dim=2)  # (B, num_masks_per_image)\n",
    "    # Rescale to the wanted number of players, keeping the same percentage of 0s and 1s.\n",
    "    num_zeroes = (num_zeroes * num_players / masks.shape[2]).round()\n",
    "\n",
    "    if players_to_mask in [\"best\", \"worst\"]:\n",
    "        shap_values = explainer(images)  # (B, num_players, num_classes)\n",
    "        # shap_values[b, p] := shap_values[b, p, targets[b]]\n",
    "        shap_indices = targets.unsqueeze(1).unsqueeze(2).expand(B, num_players, 1)  # (B,) -> (B, num_players, 1)\n",
    "        shap_values = shap_values.gather(dim=2, index=shap_indices).squeeze(dim=2)  # (B, num_players)\n",
    "        return make_masks_from_player_values(num_zeroes=num_zeroes, player_values=shap_values, players_to_mask=players_to_mask)\n",
    "    elif players_to_mask in [\"central\", \"peripheral\", \"random\"]:\n",
    "        distances = get_distances_from_center(num_players).to(images.device).expand(B, num_players)\n",
    "        if players_to_mask == \"central\":\n",
    "            players_to_mask = \"worst\"\n",
    "        elif players_to_mask == \"peripheral\":\n",
    "            players_to_mask = \"best\"\n",
    "        return make_masks_from_player_values(num_zeroes=num_zeroes, player_values=distances, players_to_mask=players_to_mask)\n",
    "    else:\n",
    "        raise ValueError(f\"{players_to_mask=}\")\n",
    "\n",
    "\n",
    "def test_masked(surrogate: torch.nn.Module, dataloader: torch.utils.data.DataLoader, explainer: torch.nn.Module, players_to_mask: Literal[\"best\", \"worst\", \"random\", \"central\", \"peripheral\"], device=\"cuda\") -> None:\n",
    "    results = []\n",
    "    masked_percentages = []\n",
    "    explainer.eval()\n",
    "    surrogate.eval()\n",
    "    with torch.no_grad():\n",
    "        explainer.to(device)\n",
    "        surrogate.to(device)\n",
    "        correct, total = 0, 0\n",
    "        with tqdm(dataloader, desc=players_to_mask) as dataloader_progress:\n",
    "            for batch in dataloader_progress:\n",
    "                images, masks, targets = batch['images'], batch['masks'], batch['labels']\n",
    "                images, masks, targets = images.to(device), masks.to(device), targets.to(device)\n",
    "\n",
    "                masks = remake_masks(images, masks, targets, players_to_mask, explainer).to(device)\n",
    "                images, masks, targets = apply_masks_to_batch(images, masks, targets)\n",
    "\n",
    "                logits = surrogate(images)\n",
    "                _, predicted = logits.max(dim=1)\n",
    "                total += targets.shape[0]\n",
    "                correct += predicted.eq(targets).sum().item()\n",
    "                results.extend(predicted.eq(targets).cpu().numpy())\n",
    "                masked_percentages.extend((1 - masks.float()).mean(dim=1).cpu().numpy() * 100)\n",
    "                dataloader_progress.set_postfix_str(f'Accuracy: {100.0 * correct / total:.2f}%')\n",
    "    return pd.DataFrame({'result': results, 'masked %': masked_percentages})\n",
    "\n",
    "all_results = {}"
   ]
  },
  {
   "cell_type": "code",
   "execution_count": 12,
   "id": "84c2b223",
   "metadata": {},
   "outputs": [
    {
     "data": {
      "application/vnd.jupyter.widget-view+json": {
       "model_id": "c9b9bdd2447c48a08b84a831fb720041",
       "version_major": 2,
       "version_minor": 0
      },
      "text/plain": [
       "Output()"
      ]
     },
     "metadata": {},
     "output_type": "display_data"
    },
    {
     "data": {
      "application/vnd.jupyter.widget-view+json": {
       "model_id": "08e63bf2c5794237bd7f7205f3ade0c9",
       "version_major": 2,
       "version_minor": 0
      },
      "text/plain": [
       "repeats:   0%|          | 0/2 [00:00<?, ?it/s]"
      ]
     },
     "metadata": {},
     "output_type": "display_data"
    },
    {
     "data": {
      "application/vnd.jupyter.widget-view+json": {
       "model_id": "617389a31d164a91b8349cd45fcc063d",
       "version_major": 2,
       "version_minor": 0
      },
      "text/plain": [
       "central:   0%|          | 0/313 [00:00<?, ?it/s]"
      ]
     },
     "metadata": {},
     "output_type": "display_data"
    },
    {
     "data": {
      "application/vnd.jupyter.widget-view+json": {
       "model_id": "9dc7ddf26bac428a905de8989596e13d",
       "version_major": 2,
       "version_minor": 0
      },
      "text/plain": [
       "peripheral:   0%|          | 0/313 [00:00<?, ?it/s]"
      ]
     },
     "metadata": {},
     "output_type": "display_data"
    },
    {
     "data": {
      "application/vnd.jupyter.widget-view+json": {
       "model_id": "9a6c8119ac60450c8ed025a8869b5ec3",
       "version_major": 2,
       "version_minor": 0
      },
      "text/plain": [
       "random:   0%|          | 0/313 [00:00<?, ?it/s]"
      ]
     },
     "metadata": {},
     "output_type": "display_data"
    },
    {
     "data": {
      "application/vnd.jupyter.widget-view+json": {
       "model_id": "960e8ee05f6544edb4fc187dc0e3c37d",
       "version_major": 2,
       "version_minor": 0
      },
      "text/plain": [
       "best:   0%|          | 0/313 [00:00<?, ?it/s]"
      ]
     },
     "metadata": {},
     "output_type": "display_data"
    },
    {
     "data": {
      "application/vnd.jupyter.widget-view+json": {
       "model_id": "fb143693e711440e99b07c84b3dc3dd9",
       "version_major": 2,
       "version_minor": 0
      },
      "text/plain": [
       "worst:   0%|          | 0/313 [00:00<?, ?it/s]"
      ]
     },
     "metadata": {},
     "output_type": "display_data"
    },
    {
     "data": {
      "application/vnd.jupyter.widget-view+json": {
       "model_id": "d6189aa2b22d4cdc9df3ef0d6c6ea188",
       "version_major": 2,
       "version_minor": 0
      },
      "text/plain": [
       "central:   0%|          | 0/313 [00:00<?, ?it/s]"
      ]
     },
     "metadata": {},
     "output_type": "display_data"
    },
    {
     "data": {
      "application/vnd.jupyter.widget-view+json": {
       "model_id": "2738a894ecec46ca9ba8b8fd059c2940",
       "version_major": 2,
       "version_minor": 0
      },
      "text/plain": [
       "peripheral:   0%|          | 0/313 [00:00<?, ?it/s]"
      ]
     },
     "metadata": {},
     "output_type": "display_data"
    },
    {
     "data": {
      "application/vnd.jupyter.widget-view+json": {
       "model_id": "1c80934d870440a091beaa8b0a0a705f",
       "version_major": 2,
       "version_minor": 0
      },
      "text/plain": [
       "random:   0%|          | 0/313 [00:00<?, ?it/s]"
      ]
     },
     "metadata": {},
     "output_type": "display_data"
    },
    {
     "data": {
      "application/vnd.jupyter.widget-view+json": {
       "model_id": "c829da5fbdcc4dbebbc2f8b8b0045fe3",
       "version_major": 2,
       "version_minor": 0
      },
      "text/plain": [
       "best:   0%|          | 0/313 [00:00<?, ?it/s]"
      ]
     },
     "metadata": {},
     "output_type": "display_data"
    },
    {
     "data": {
      "application/vnd.jupyter.widget-view+json": {
       "model_id": "361ad978983749a3bfd8ac95088c4495",
       "version_major": 2,
       "version_minor": 0
      },
      "text/plain": [
       "worst:   0%|          | 0/313 [00:00<?, ?it/s]"
      ]
     },
     "metadata": {},
     "output_type": "display_data"
    }
   ],
   "source": [
    "import IPython.display\n",
    "import ipywidgets\n",
    "\n",
    "def plot(all_results: dict[str, pd.DataFrame], bucket_size: float = 100 / 14) -> None:\n",
    "    # Smooth the plot by rounding 'masked %' to the nearest multiple of bucket_size.\n",
    "    plot_results = deepcopy(all_results)\n",
    "    for k, df in plot_results.items():\n",
    "       df['masked %'] = df['masked %'].div(bucket_size).round().astype(int).mul(bucket_size)\n",
    "\n",
    "    fig, axs = plt.subplots(nrows=1, ncols=2, figsize=(15, 6))\n",
    "    for i, ax in enumerate(axs):\n",
    "        for k, df in plot_results.items():\n",
    "            ax.errorbar(\n",
    "                x=list(df.groupby('masked %').groups.keys()),\n",
    "                y=df.groupby('masked %').mean()[\"result\"].to_list(),\n",
    "                yerr=df.groupby('masked %').sem()[\"result\"].mul(3).to_list(),\n",
    "                label=k\n",
    "            )\n",
    "        ax.plot([0, 100], [0.97, 0.97], color='black', linestyle='dashed', linewidth=0.7, label='97%')\n",
    "        ax.legend()\n",
    "        ax.set_xlabel('masked %')\n",
    "        ax.set_ylabel('accuracy')\n",
    "        if i == 0:\n",
    "            ax.set_xlim(0, 100)\n",
    "            ax.set_ylim(0, 1)\n",
    "        else:\n",
    "            ax.set_xlim(0, 20)\n",
    "            ax.set_ylim(0.97, 1)\n",
    "    plt.show()\n",
    "\n",
    "# Make a sub-output for updating the plot live.\n",
    "plot_output = ipywidgets.Output()\n",
    "IPython.display.display(plot_output)\n",
    "\n",
    "with tqdm(range(2), desc=\"repeats\") as repeats:\n",
    "    for repeat in repeats:\n",
    "        for players_to_mask in [\"central\", \"peripheral\", \"random\", \"best\", \"worst\"]:\n",
    "            # Update plot\n",
    "            plot_output.clear_output(wait=False)\n",
    "            with plot_output:\n",
    "                plot(all_results)\n",
    "            # Test and update results\n",
    "            df = test_masked(surrogate, datamodule.test_dataloader(), explainer, players_to_mask)\n",
    "            if players_to_mask not in all_results:\n",
    "                all_results[players_to_mask] = df\n",
    "            else:\n",
    "                all_results[players_to_mask] = pd.concat([all_results[players_to_mask], df])\n",
    "\n",
    "# Update plot\n",
    "plot_output.clear_output(wait=True)\n",
    "with plot_output:\n",
    "    plot(all_results)"
   ]
  },
  {
   "cell_type": "code",
   "execution_count": null,
   "id": "2542a9c4",
   "metadata": {},
   "outputs": [],
   "source": []
  }
 ],
 "metadata": {
  "kernelspec": {
   "display_name": "Python 3 (ipykernel)",
   "language": "python",
   "name": "python3"
  },
  "language_info": {
   "codemirror_mode": {
    "name": "ipython",
    "version": 3
   },
   "file_extension": ".py",
   "mimetype": "text/x-python",
   "name": "python",
   "nbconvert_exporter": "python",
   "pygments_lexer": "ipython3",
   "version": "3.11.7"
  }
 },
 "nbformat": 4,
 "nbformat_minor": 5
}
